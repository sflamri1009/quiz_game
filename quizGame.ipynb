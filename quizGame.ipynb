{
 "cells": [
  {
   "cell_type": "code",
   "execution_count": null,
   "id": "afb54924-39ea-4272-b009-a1be86bfa2f0",
   "metadata": {},
   "outputs": [],
   "source": []
  },
  {
   "cell_type": "code",
   "execution_count": 4,
   "id": "e163462e-8cb4-4139-a4aa-7dc81c5a30bc",
   "metadata": {},
   "outputs": [
    {
     "name": "stdout",
     "output_type": "stream",
     "text": [
      "WApa ibu kota negara Prancis?\n",
      "A. Paris\n",
      "B. London\n",
      "C. Berlin\n",
      "D. Madrid\n"
     ]
    },
    {
     "name": "stdin",
     "output_type": "stream",
     "text": [
      "pilih jawabanmu (A, B, C atau D):  a\n"
     ]
    },
    {
     "name": "stdout",
     "output_type": "stream",
     "text": [
      "benar! \n",
      "\n",
      "Bahasa apa yang digunakan di Brazil\n",
      "A. Spanish\n",
      "B. Portuguese\n",
      "C. English\n",
      "D. French\n"
     ]
    },
    {
     "name": "stdin",
     "output_type": "stream",
     "text": [
      "pilih jawabanmu (A, B, C atau D):  a\n"
     ]
    },
    {
     "name": "stdout",
     "output_type": "stream",
     "text": [
      "salah! jawaban yang benar adalah B \n",
      "\n",
      "Berapa angka prima terkecil?\n",
      "A. 1\n",
      "B. 2\n",
      "C. 3\n",
      "D. 5\n"
     ]
    },
    {
     "name": "stdin",
     "output_type": "stream",
     "text": [
      "pilih jawabanmu (A, B, C atau D):  a\n"
     ]
    },
    {
     "name": "stdout",
     "output_type": "stream",
     "text": [
      "salah! jawaban yang benar adalah B \n",
      "\n",
      "siapa penulis 'To Kill a Mockingbird'?\n",
      "A. Harper Lee\n",
      "B. Mark Twain\n",
      "C. J.K. Rowling\n",
      "D. Ernest Hemingway\n"
     ]
    },
    {
     "name": "stdin",
     "output_type": "stream",
     "text": [
      "pilih jawabanmu (A, B, C atau D):  a\n"
     ]
    },
    {
     "name": "stdout",
     "output_type": "stream",
     "text": [
      "benar! \n",
      "\n",
      "kamu dapat total skor 2 dari semua 4 pertanyaan yang benar.\n"
     ]
    }
   ],
   "source": [
    "def run_quiz(questions):\n",
    "    score = 0\n",
    "    for question in questions:\n",
    "        print(question[\"prompt\"])\n",
    "        for option in question[\"options\"]:\n",
    "            print(option)\n",
    "        answer = input(\"pilih jawabanmu (A, B, C atau D): \").upper()\n",
    "        if answer == question[\"answer\"]:\n",
    "            print(\"benar! \\n\")\n",
    "            score += 1\n",
    "        else:\n",
    "            print(\"salah! jawaban yang benar adalah\", question[\"answer\"], \"\\n\")\n",
    "    print(f\"kamu dapat total skor {score} dari semua {len(questions)} pertanyaan yang benar.\" )\n",
    "\n",
    "# List of quiz questions. Each question is a dictionary.\n",
    "questions = [\n",
    "    {\n",
    "        \"prompt\": \"WApa ibu kota negara Prancis?\",\n",
    "        \"options\": [\"A. Paris\", \"B. London\", \"C. Berlin\", \"D. Madrid\"],\n",
    "        \"answer\": \"A\"\n",
    "    },\n",
    "    {\n",
    "        \"prompt\": \"Bahasa apa yang digunakan di Brazil\",\n",
    "        \"options\": [\"A. Spanish\", \"B. Portuguese\", \"C. English\", \"D. French\"],\n",
    "        \"answer\": \"B\"\n",
    "    },\n",
    "    {\n",
    "        \"prompt\": \"Berapa angka prima terkecil?\",\n",
    "        \"options\": [\"A. 1\", \"B. 2\", \"C. 3\", \"D. 5\"],\n",
    "        \"answer\": \"B\"\n",
    "    },\n",
    "    {\n",
    "        \"prompt\": \"siapa penulis 'To Kill a Mockingbird'?\",\n",
    "        \"options\": [\"A. Harper Lee\", \"B. Mark Twain\", \"C. J.K. Rowling\", \"D. Ernest Hemingway\"],\n",
    "        \"answer\": \"A\"\n",
    "    }\n",
    "]\n",
    "\n",
    "\n",
    "run_quiz(questions)"
   ]
  },
  {
   "cell_type": "code",
   "execution_count": null,
   "id": "8fd16e07-5321-4be9-9b66-c8544b6f5282",
   "metadata": {},
   "outputs": [],
   "source": []
  }
 ],
 "metadata": {
  "kernelspec": {
   "display_name": "Python 3 (ipykernel)",
   "language": "python",
   "name": "python3"
  },
  "language_info": {
   "codemirror_mode": {
    "name": "ipython",
    "version": 3
   },
   "file_extension": ".py",
   "mimetype": "text/x-python",
   "name": "python",
   "nbconvert_exporter": "python",
   "pygments_lexer": "ipython3",
   "version": "3.11.4"
  }
 },
 "nbformat": 4,
 "nbformat_minor": 5
}
